{
 "cells": [
  {
   "cell_type": "markdown",
   "metadata": {},
   "source": [
    "# Schematized model of the Waal River"
   ]
  },
  {
   "cell_type": "markdown",
   "metadata": {},
   "source": [
    "## Purpose \n",
    "\n",
    "In this exercise, we consider a 90 km long stretch of the River Waal. The River Waal is the main branch of the Rhine in the Netherlands and runs from the bifurcation of Pannerden to the bifurcation at Werkendam (see image below).\n",
    "\n",
    "<img src=\"river_waal.png\" alt=\"Drawing\" style=\"float: left\" style=\"width: 800px;\"/> "
   ]
  },
  {
   "cell_type": "markdown",
   "metadata": {},
   "source": [
    "Figure 1: The waal stretch from Pannerden to Werkendam.\n",
    "\n",
    "To perform a quantitative analysis, we consider the stretch as if it were a straight flume, with constant bed slope and width. Depending on the flow discharge, the bed roughness and the downstream water level boundary condition, different flow regimes can occur. The simplest form - which can also be computed analytically - is a uniform channel flow situation, where a constant (equilibrium) water depth $H^{eq}$ and a constant flow velocity $u$ develop along the full length of the model.\n",
    "\n",
    "A different flow situation can occur when the discharge is higher/lower than the equilibrium discharge (belonging to the equilibrium depth $H^{eq}$. A steady example of such a flow situation is a backwater/Bélanger curve and a dynamic case is a river flood wave. "
   ]
  },
  {
   "cell_type": "markdown",
   "metadata": {},
   "source": [
    "## Aim\n",
    "\n",
    "The aim of this exercise is twofold. First, we inspect whether a 1D numerical model (with many assumptions!) can represent the analytical solution of uniform channel flow. This can be done for different combinations of boundary conditions and the bottom friction coefficient. Second, we will see that if the boundary conditions (together with the bottom friction coefficient) do not correspond to the situation of uniform channel flow, a backwater or Bélanger curve will develop."
   ]
  },
  {
   "cell_type": "markdown",
   "metadata": {},
   "source": [
    "## Approach\n",
    "\n",
    "First we set up the model to compute uniform channel flow. Our river stretch is a simplified version of the Waal River in the Netherlands, from the city of Pannerden to the city of Werkendam (see Figure 1). The river/channel has the following dimensions:\n",
    "\n",
    "Length $L$ = 90 km <br>\n",
    "Width $B$ = 250 m <br>\n",
    "Bed slope $i_b$ = 1e-4 m/m (positive downwards)\n",
    "\n",
    "Additionally, we prescribe a steady discharge $Q$ = 1000 m$^3$/s and a Chézy value of $C$ = 50 m$^{1/2}$/s. Chézy is a another way to represent roughness $(C = \\sqrt{g/c_f})$. Using the Chézy formula we can now compute the equilibrium depth that should theoretically develop for these channel/flow characteristics:\n",
    "\n",
    "$u = C \\sqrt{R i_b}$ , or <br>\n",
    "$u = C \\sqrt{H^{eq} i_b}$ .\n",
    "\n",
    "where we assumed the hydraulic radius $R$ ($=$ cross-sectional area/wetted perimeter) is equal to the water depth $H$, which can be considered valid for our wide channel/river section. Now we use $u = Q / (BH)$ and rewrite the equation for the equilibrium depth $H^{eq}$:\n",
    "\n",
    "$H^{eq} = \\left( \\frac{Q}{B C \\sqrt{i_b}} \\right)^{2/3}$ .\n",
    "\n",
    "Filling in the chosen values for $Q$, $B$, $C$ and $i_b$, one obtains an equilibrium depth $H^{eq}$ = 4 m.\n",
    "This flow situation is depicted in Figure 2."
   ]
  },
  {
   "cell_type": "markdown",
   "metadata": {},
   "source": [
    "<img src=\"uniform_channel_flow.png\" alt=\"Drawing\" style=\"float: left\" style=\"width: 800px;\"/>\n",
    "Figure 2: The uniform channel flow situation for the schematic model of the Waal River.\n",
    "\n",
    "The model grid is one-dimensional, with a grid size $\\Delta x$ = 1000m."
   ]
  },
  {
   "cell_type": "markdown",
   "metadata": {},
   "source": [
    "## Uniform Flow\n",
    "\n",
    "Now we can start the exercise. Follow the steps below to inspect the different model states (uniform channel flow, backwater curve) and try different settings for the model parameters."
   ]
  },
  {
   "cell_type": "markdown",
   "metadata": {},
   "source": [
    "## Step 1a)\n",
    "\n",
    "Specify the upstream and downstream water levels, corresponding to the uniform channel flow situation described below. Verify that indeed such a flow situation is reproduced by the model. Do we obtain the correct equilibrium depth $H^{eq}$ = 4 m?"
   ]
  },
  {
   "cell_type": "markdown",
   "metadata": {},
   "source": [
    "## Step 1b)\n",
    "\n",
    "Can you think of a reason why prescibing the downstream water level to be exactly the $H^{eq}$ did not suffice?\n",
    "Hint: The downstream water level boundary is prescribed in the ghost cell which lies just outside the domain ($\\Delta x$ = 1000 m)? Does the bed slope at the boundary then influence the required boundary condition? Can you prescribed a different downstream boundary water level, to obtain the equilibrium depth of $H^{eq}$ = 4 m?\n",
    "\n",
    "At this point you should have obtained a nice uniform channel flow with constant water depth and constant flow velocity. Can you compute the flow velocity? "
   ]
  },
  {
   "cell_type": "markdown",
   "metadata": {},
   "source": [
    "## Step 1c)\n",
    "\n",
    "\n",
    "Can you try a different combination of the discharge $Q$ and the Chézy coefficient $C$, that also gives an equilibrium depth of 4 m?"
   ]
  },
  {
   "cell_type": "markdown",
   "metadata": {},
   "source": [
    "This concludes the first part of the exercise. The second part will focus on the Bélanger or backwater curves.\n",
    "\n",
    "## Bélanger or backwater curves\n",
    "\n",
    "Remember that Bélanger studied the backwater curve. He found that under steady conditions the Saint-Venant equations can be rewritten as \n",
    "\n",
    "$\\frac{\\partial H}{\\partial x} = i_b \\frac{H^3 - (H^{eq})^3}{H^3 - H_c^3}$.\n",
    "\n",
    "where $H$ is the water depth, $H^{eq}$ is the equilibrium depth and $H_c = (Q^2/B^2/g)^{1/3}$ is the critical depth. So when you know the downstream water level $H_0$ the upstream water levels can be computed. This can be done numerically, but also analytically as there is in fact an analytical expression which solves the above equation. The full expression can be found in the appendix below.\n",
    "\n",
    "As it is a rather lengthy equation, you could use the approximation of Bresse. Keep in mind that this is valid for $H \\gg H_c$ \n",
    "\n",
    "$H(x) = H^{eq} + (H_0-H^{eq}) \\frac{1}{2}^\\frac{x-x_0}{L_{1/2}} \\qquad$   where $L_{1/2} = 0.24\\frac{H_e}{i_b}\\left(\\frac{H_0}{H^{eq}}\\right)^{\\frac{4}{3}}$.\n"
   ]
  },
  {
   "cell_type": "markdown",
   "metadata": {},
   "source": [
    "## Step 1d)\n",
    "\n",
    "Set the upstream discharge $Q$ to $1000m^3/s$ and the friction $C$ to Chézy = $50 m^{1/2}/s$ (i.e. the original values).\n",
    "Raise the downstream water level to 5 m. How much will the water level increase at Zaltbommel and Nijmegen due to the 1 m extra water depth at the downstream boundary? Does the Bresse-theory match the model results?"
   ]
  },
  {
   "cell_type": "markdown",
   "metadata": {},
   "source": [
    "## Step 1e)\n",
    "\n",
    "Now increase the bottom friction by reducing the Chézy coefficient, for instance by a factor of 2. What do you expect now?\n",
    "\n",
    "This concludes the exercises for this test case."
   ]
  },
  {
   "cell_type": "code",
   "execution_count": 2,
   "metadata": {},
   "outputs": [
    {
     "data": {
      "text/html": [
       "<script>\n",
       "code_show=true; \n",
       "function code_toggle() {\n",
       " if (code_show){\n",
       " $('div.input').hide();\n",
       " } else {\n",
       " $('div.input').show();\n",
       " }\n",
       " code_show = !code_show\n",
       "} \n",
       "$( document ).ready(code_toggle);\n",
       "</script>\n",
       "The raw code for this IPython notebook is by default hidden for easier reading.\n",
       "To toggle on/off the raw code, click <a href=\"javascript:code_toggle()\">here</a>."
      ],
      "text/plain": [
       "<IPython.core.display.HTML object>"
      ]
     },
     "execution_count": 2,
     "metadata": {},
     "output_type": "execute_result"
    }
   ],
   "source": [
    "# Imports\n",
    "import bmi\n",
    "import bmi.wrapper\n",
    "import ipywidgets as widgets\n",
    "from ipywidgets import HBox, VBox, interactive, Layout, interact\n",
    "import numpy as np\n",
    "import time\n",
    "import os\n",
    "# Something very fishy happening if I don't define a plot first.\n",
    "import matplotlib\n",
    "%matplotlib notebook\n",
    "import matplotlib.pyplot as plt\n",
    "import sys\n",
    "plt.ioff()\n",
    "_ = plt.figure()\n",
    "plt.ion()\n",
    "\n",
    "# Toggle button for hiding the raw code\n",
    "from IPython.display import HTML\n",
    "HTML('''<script>\n",
    "code_show=true; \n",
    "function code_toggle() {\n",
    " if (code_show){\n",
    " $('div.input').hide();\n",
    " } else {\n",
    " $('div.input').show();\n",
    " }\n",
    " code_show = !code_show\n",
    "} \n",
    "$( document ).ready(code_toggle);\n",
    "</script>\n",
    "The raw code for this IPython notebook is by default hidden for easier reading.\n",
    "To toggle on/off the raw code, click <a href=\"javascript:code_toggle()\">here</a>.''')\n"
   ]
  },
  {
   "cell_type": "code",
   "execution_count": 24,
   "metadata": {},
   "outputs": [
    {
     "name": "stdout",
     "output_type": "stream",
     "text": [
      "C:\\Users\\vries_cy\\OneDrive - Stichting Deltares\\Desktop\\DFM\\x64\\dflowfm\\bin\\dflowfm\n"
     ]
    }
   ],
   "source": [
    "# sys.path.append(\"d:\\checkouts\\oss_trunk\\src\\bin\\x64\\share\\bin\")\n",
    "# engine = r'd:\\checkouts\\oss_trunk\\src\\bin\\x64\\dflowfm\\bin\\dflowfm'\n",
    "# mdufile = r'd:\\projects\\PAO_cursus\\hyd_opp_water_2018\\tests\\c015_manning_schematic_river\\manning_schematic_river.mdu'\n",
    "# wrapper = bmi.wrapper.BMIWrapper(engine=engine);\n",
    "\n",
    "# # # Cindy\n",
    "# engine = r'C:\\Users\\vries_cy\\OneDrive - Stichting Deltares\\Desktop\\DFM-old\\share\\bin\\dflowfm'\n",
    "# wrapper = bmi.wrapper.BMIWrapper(engine=engine);\n",
    "# engine = r'D:\\hydrodynamics-course-binder\\x64\\dflowfm\\bin\\dflowfm.dll'\n",
    "# # mdufile = r'C:\\Users\\vries_cy\\PAOTM cursus\\river\\manning_schematic_river.mdu'\n",
    "# #engine = r'C:\\Users\\vries_cy\\OneDrive - Stichting Deltares\\Desktop\\DFM-old\\share\\bin\\dflowfm'\n",
    "# #wrapper = bmi.wrapper.BMIWrapper(engine=engine);\n",
    "# # print(os.getcwd())\n",
    "# import sys\n",
    "# import pathlib\n",
    "# import os\n",
    "# # fmdir = os.path.join(os.getcwd(),'..','..','oss_artifacts_x64_63463','x64','dflowfm','bin_org')\n",
    "# engine = os.path.join(os.getcwd(),'..','x64','dflowfm','bin','dflowfm')\n",
    "# print(engine)\n",
    "# mdufile = os.path.join(os.getcwd(),'..','..','PAOTM models','ex1_river','manning_schematic_river.mdu')\n",
    "# # print(mdufile)"
   ]
  },
  {
   "cell_type": "code",
   "execution_count": 5,
   "metadata": {},
   "outputs": [],
   "source": [
    "engine = r'C:\\Users\\backeber\\OneDrive - Stichting Deltares\\Documents\\DFLOWFM\\oss_artifacts_x64_65957\\x64\\share\\bin\\dflowfm'\n",
    "mdufile = r'C:\\Users\\backeber\\OneDrive - Stichting Deltares\\Desktop\\To do\\todo-0-PAOTM_cursus\\cursus_2019\\1. Rivers\\1.6. Demo’s en hands-on exercises\\ex1_river\\manning_schematic_river.mdu'"
   ]
  },
  {
   "cell_type": "code",
   "execution_count": 6,
   "metadata": {},
   "outputs": [
    {
     "ename": "ValueError",
     "evalue": "byte string too long",
     "output_type": "error",
     "traceback": [
      "\u001b[1;31m---------------------------------------------------------------------------\u001b[0m",
      "\u001b[1;31mValueError\u001b[0m                                Traceback (most recent call last)",
      "\u001b[1;32m<ipython-input-6-48fe29baf77e>\u001b[0m in \u001b[0;36m<module>\u001b[1;34m\u001b[0m\n\u001b[0;32m      2\u001b[0m \u001b[0mitems\u001b[0m \u001b[1;33m=\u001b[0m \u001b[1;33m[\u001b[0m\u001b[1;33m]\u001b[0m\u001b[1;33m\u001b[0m\u001b[1;33m\u001b[0m\u001b[0m\n\u001b[0;32m      3\u001b[0m \u001b[0mwrapper\u001b[0m \u001b[1;33m=\u001b[0m \u001b[0mbmi\u001b[0m\u001b[1;33m.\u001b[0m\u001b[0mwrapper\u001b[0m\u001b[1;33m.\u001b[0m\u001b[0mBMIWrapper\u001b[0m\u001b[1;33m(\u001b[0m\u001b[0mengine\u001b[0m\u001b[1;33m=\u001b[0m\u001b[0mengine\u001b[0m\u001b[1;33m,\u001b[0m \u001b[0mconfigfile\u001b[0m\u001b[1;33m=\u001b[0m\u001b[0mmdufile\u001b[0m\u001b[1;33m)\u001b[0m\u001b[1;33m;\u001b[0m\u001b[1;33m\u001b[0m\u001b[1;33m\u001b[0m\u001b[0m\n\u001b[1;32m----> 4\u001b[1;33m \u001b[0mwrapper\u001b[0m\u001b[1;33m.\u001b[0m\u001b[0minitialize\u001b[0m\u001b[1;33m(\u001b[0m\u001b[1;33m)\u001b[0m\u001b[1;33m;\u001b[0m\u001b[1;33m\u001b[0m\u001b[1;33m\u001b[0m\u001b[0m\n\u001b[0m",
      "\u001b[1;32m~\\AppData\\Local\\Continuum\\anaconda3\\envs\\paotm-2020\\lib\\site-packages\\bmi\\wrapper.py\u001b[0m in \u001b[0;36minitialize\u001b[1;34m(self, configfile)\u001b[0m\n\u001b[0;32m    356\u001b[0m         \u001b[1;31m# initialize by abs_name because we already chdirred\u001b[0m\u001b[1;33m\u001b[0m\u001b[1;33m\u001b[0m\u001b[1;33m\u001b[0m\u001b[0m\n\u001b[0;32m    357\u001b[0m         \u001b[1;31m# if configfile is a relative path  we would have a problem\u001b[0m\u001b[1;33m\u001b[0m\u001b[1;33m\u001b[0m\u001b[1;33m\u001b[0m\u001b[0m\n\u001b[1;32m--> 358\u001b[1;33m         \u001b[0mierr\u001b[0m \u001b[1;33m=\u001b[0m \u001b[0mwrap\u001b[0m\u001b[1;33m(\u001b[0m\u001b[0mself\u001b[0m\u001b[1;33m.\u001b[0m\u001b[0mlibrary\u001b[0m\u001b[1;33m.\u001b[0m\u001b[0minitialize\u001b[0m\u001b[1;33m)\u001b[0m\u001b[1;33m(\u001b[0m\u001b[0mabs_name\u001b[0m\u001b[1;33m)\u001b[0m\u001b[1;33m\u001b[0m\u001b[1;33m\u001b[0m\u001b[0m\n\u001b[0m\u001b[0;32m    359\u001b[0m         \u001b[1;32mif\u001b[0m \u001b[0mierr\u001b[0m\u001b[1;33m:\u001b[0m\u001b[1;33m\u001b[0m\u001b[1;33m\u001b[0m\u001b[0m\n\u001b[0;32m    360\u001b[0m             \u001b[0merrormsg\u001b[0m \u001b[1;33m=\u001b[0m \u001b[1;34m\"Loading model {config} failed with exit code {code}\"\u001b[0m\u001b[1;33m\u001b[0m\u001b[1;33m\u001b[0m\u001b[0m\n",
      "\u001b[1;32m~\\AppData\\Local\\Continuum\\anaconda3\\envs\\paotm-2020\\lib\\site-packages\\bmi\\wrapper.py\u001b[0m in \u001b[0;36mwrapped\u001b[1;34m(*args)\u001b[0m\n\u001b[0;32m    160\u001b[0m             \u001b[1;32mif\u001b[0m \u001b[0margtype\u001b[0m \u001b[1;33m==\u001b[0m \u001b[0mc_char_p\u001b[0m\u001b[1;33m:\u001b[0m\u001b[1;33m\u001b[0m\u001b[1;33m\u001b[0m\u001b[0m\n\u001b[0;32m    161\u001b[0m                 \u001b[1;31m# create a string buffer for strings\u001b[0m\u001b[1;33m\u001b[0m\u001b[1;33m\u001b[0m\u001b[1;33m\u001b[0m\u001b[0m\n\u001b[1;32m--> 162\u001b[1;33m                 \u001b[0mtyped_arg\u001b[0m \u001b[1;33m=\u001b[0m \u001b[0mcreate_string_buffer\u001b[0m\u001b[1;33m(\u001b[0m\u001b[0marg\u001b[0m\u001b[1;33m)\u001b[0m\u001b[1;33m\u001b[0m\u001b[1;33m\u001b[0m\u001b[0m\n\u001b[0m\u001b[0;32m    163\u001b[0m             \u001b[1;32melse\u001b[0m\u001b[1;33m:\u001b[0m\u001b[1;33m\u001b[0m\u001b[1;33m\u001b[0m\u001b[0m\n\u001b[0;32m    164\u001b[0m                 \u001b[1;31m# for other types, use the type to do the conversion\u001b[0m\u001b[1;33m\u001b[0m\u001b[1;33m\u001b[0m\u001b[1;33m\u001b[0m\u001b[0m\n",
      "\u001b[1;32m~\\AppData\\Local\\Continuum\\anaconda3\\envs\\paotm-2020\\lib\\site-packages\\bmi\\wrapper.py\u001b[0m in \u001b[0;36mcreate_string_buffer\u001b[1;34m(init, size, encoding)\u001b[0m\n\u001b[0;32m     49\u001b[0m         \u001b[0mbuf\u001b[0m \u001b[1;33m=\u001b[0m \u001b[0mbuftype\u001b[0m\u001b[1;33m(\u001b[0m\u001b[1;33m)\u001b[0m\u001b[1;33m\u001b[0m\u001b[1;33m\u001b[0m\u001b[0m\n\u001b[0;32m     50\u001b[0m         \u001b[1;32mtry\u001b[0m\u001b[1;33m:\u001b[0m\u001b[1;33m\u001b[0m\u001b[1;33m\u001b[0m\u001b[0m\n\u001b[1;32m---> 51\u001b[1;33m             \u001b[0mbuf\u001b[0m\u001b[1;33m.\u001b[0m\u001b[0mvalue\u001b[0m \u001b[1;33m=\u001b[0m \u001b[0minit\u001b[0m\u001b[1;33m.\u001b[0m\u001b[0mencode\u001b[0m\u001b[1;33m(\u001b[0m\u001b[0mencoding\u001b[0m\u001b[1;33m)\u001b[0m\u001b[1;33m\u001b[0m\u001b[1;33m\u001b[0m\u001b[0m\n\u001b[0m\u001b[0;32m     52\u001b[0m         \u001b[1;32mexcept\u001b[0m \u001b[0mAttributeError\u001b[0m\u001b[1;33m:\u001b[0m\u001b[1;33m\u001b[0m\u001b[1;33m\u001b[0m\u001b[0m\n\u001b[0;32m     53\u001b[0m             \u001b[0mbuf\u001b[0m\u001b[1;33m.\u001b[0m\u001b[0mvalue\u001b[0m \u001b[1;33m=\u001b[0m \u001b[0minit\u001b[0m\u001b[1;33m\u001b[0m\u001b[1;33m\u001b[0m\u001b[0m\n",
      "\u001b[1;31mValueError\u001b[0m: byte string too long"
     ]
    }
   ],
   "source": [
    "data = []\n",
    "items = []\n",
    "wrapper = bmi.wrapper.BMIWrapper(engine=engine, configfile=mdufile);\n",
    "wrapper.initialize();\n"
   ]
  },
  {
   "cell_type": "code",
   "execution_count": null,
   "metadata": {},
   "outputs": [],
   "source": [
    "maxsteps = 100\n",
    "parameters = [\n",
    "    {\n",
    "        \"parameter\": \"zbndz\",\n",
    "        \"description\": \"Boundary Water level Downstream $[m]$\",\n",
    "        \"default\": 4\n",
    "    },    {\n",
    "        \"parameter\": \"zbndq\",\n",
    "        \"description\": \"Boundary Discharge Upstream $[m^3/s]$\",\n",
    "        \"default\": 1000\n",
    "    },    {\n",
    "        \"parameter\": \"frcu\",\n",
    "        \"description\": r\"Roughness Chézy $[\\sqrt{m}/s]$\",\n",
    "        \"default\": str(wrapper.get_var(\"frcu\")[0])\n",
    "    }\n",
    "]"
   ]
  },
  {
   "cell_type": "code",
   "execution_count": null,
   "metadata": {},
   "outputs": [],
   "source": [
    "# Create widgets\n",
    "style = {'description_width': 'initial'}\n",
    "\n",
    "run = widgets.Button(\n",
    "    description='Run model',\n",
    "    button_style='',\n",
    "    icon='play'\n",
    ")\n",
    "update = widgets.Button(\n",
    "    description='Single update',\n",
    "    button_style='',\n",
    "    tooltip='Update with 1 timestep',\n",
    "    icon='step-forward'\n",
    ")\n",
    "restart = widgets.Button(\n",
    "    description='Restart model',\n",
    "    button_style='',\n",
    "    tooltip='Restart entire model with initial inputs',\n",
    "    icon='retweet'\n",
    ")\n",
    "\n",
    "settings = widgets.HTML(\n",
    "    value=\"Welcome!\",\n",
    "    placeholder='Input settings'\n",
    ")\n",
    "\n",
    "play = widgets.Play(\n",
    "#     interval=10,\n",
    "    value=0,\n",
    "    min=0,\n",
    "    max=int(wrapper.get_end_time()),\n",
    "    step=1,\n",
    "    description=\"Press play\",\n",
    "    disabled=False\n",
    ")\n",
    "\n",
    "\n",
    "nsteps = widgets.BoundedIntText(\n",
    "    description=\"Number of timesteps\",\n",
    "    value=100,\n",
    "    min=0,\n",
    "    max=maxsteps,\n",
    "    style=style,\n",
    "    layout=Layout(width='15vw')\n",
    ")\n",
    "\n",
    "slider = widgets.IntSlider(  \n",
    "    min=0,\n",
    "    max=1,\n",
    "    value=0\n",
    ")\n",
    "\n",
    "widgets.jslink((play, 'value'), (slider, 'value'))\n",
    "player = widgets.HBox([play, slider])\n",
    "\n",
    "# parameters = [\"zbndz\", \"zbndq\", \"frcu\"]\n",
    "# p_descrip = [\"Boundary Water level\", \"Boundary Discharge\", \"Roughness Chézy\"]\n",
    "\n",
    "items=[]\n",
    "for p in parameters: \n",
    "    items.append(widgets.Text(\n",
    "        description=p[\"description\"],\n",
    "        disabled=False,\n",
    "        value=str(p[\"default\"]),\n",
    "        placeholder=p[\"parameter\"],\n",
    "        style=style,\n",
    "        layout=Layout(width='50vw')\n",
    "    ))"
   ]
  },
  {
   "cell_type": "code",
   "execution_count": null,
   "metadata": {},
   "outputs": [],
   "source": [
    "# parameters[0][\"default\"]"
   ]
  },
  {
   "cell_type": "code",
   "execution_count": null,
   "metadata": {},
   "outputs": [],
   "source": [
    "# Model specific function \n",
    "\n",
    "#     Automate parameter and grid sizes\n",
    "def update_data():\n",
    "    waterlevel = wrapper.get_var('s1')[1:-1]\n",
    "    bedlevel = wrapper.get_var('bl')[1:-1]\n",
    "    xz = wrapper.get_var('xz')[1:-1]\n",
    "    velX = wrapper.get_var('ucx')[1:-1]\n",
    "    data.append(dict({\n",
    "        \"time\": float(wrapper.get_current_time()),\n",
    "        \"waterlevel\": waterlevel.copy(), \n",
    "        \"bedlevel\": bedlevel.copy(), \n",
    "        \"velX\": velX.copy(),\n",
    "        \"xz\": xz.copy()\n",
    "    }))\n",
    "    slider.max = len(data)\n",
    "    slider.description=\"timestep: {}\".format(data[slider.value][\"time\"])\n",
    "    settings.value = \"Model update, timestep: {}\".format(data[-1][\"time\"])\n",
    "update_data()\n"
   ]
  },
  {
   "cell_type": "code",
   "execution_count": null,
   "metadata": {},
   "outputs": [],
   "source": [
    "# Standard functions for button widgets\n",
    "dostop = False\n",
    "def update_model(b=None):\n",
    "#     Update the model with t = 1\n",
    "    wrapper.update(wrapper.get_time_step())\n",
    "    if(data[-1][\"time\"] != wrapper.get_current_time()):\n",
    "        update_data()\n",
    "\n",
    "def start_loop(n):\n",
    "#     Start the loop for running the model continuously\n",
    "#     while run.value == True: \n",
    "    for i in range(n):\n",
    "        update_model()\n",
    "        if (wrapper.get_current_time() >= wrapper.get_end_time()):\n",
    "            stop_model()\n",
    "            break\n",
    "        if dostop == True: \n",
    "            stop_model()\n",
    "            break\n",
    "    stop_model()\n",
    "\n",
    "def run_model(change=None): \n",
    "#     When the run/stop model button is pressed either start the model loop or stop it\n",
    "    run.disabled = True\n",
    "    update.disabled = True\n",
    "    restart.disabled = True\n",
    "    settings.disabled = True\n",
    "    nsteps.disabled = True\n",
    "    for i in items:\n",
    "        i.disabled = True\n",
    "    start_loop(int(nsteps.value))\n",
    "#         thread = threading.Thread(target=start_loop)\n",
    "#         thread.start()\n",
    "\n",
    "def stop_model(change=None):\n",
    "    update.disabled = False\n",
    "    restart.disabled = False\n",
    "    run.disabled = False\n",
    "    nsteps.disabled = False\n",
    "    for i in items:\n",
    "        i.disabled = False\n",
    "    dostop = True\n",
    "\n",
    "def change_param(v):\n",
    "    try:\n",
    "        v = v.owner\n",
    "    except AttributeError: \n",
    "        v = v\n",
    "    if v.value == \"\":\n",
    "        return\n",
    "    try:\n",
    "        float(v.value)\n",
    "        old_par = wrapper.get_var(v.placeholder)\n",
    "        new_par = np.ones_like(old_par) * float(v.value)\n",
    "        wrapper.set_var(v.placeholder, new_par)\n",
    "        settings.value = \"Value ({}) has been set to: {}\".format(v.description, new_par[0])\n",
    "    except ValueError:\n",
    "        v.value = str(next((x['default'] for x in parameters if x['parameter'] == v.placeholder), None))\n",
    "        settings.value = \"Not a correct input for {}\".format(v.description)\n",
    "\n",
    "def start_model():\n",
    "#     start model\n",
    "    wrapper = bmi.wrapper.BMIWrapper(engine=engine, configfile=mdufile)\n",
    "    wrapper.initialize()\n",
    "    update_data()\n",
    "    for i in range(len(items)): \n",
    "        items[i].value = str(parameters[i]['default'])\n",
    "        \n",
    "def restart_model(b=None):\n",
    "#     stop the model and call function to restart the model\n",
    "    del data[:]\n",
    "    slider.value = 0\n",
    "    wrapper.finalize()\n",
    "    start_model()\n",
    "    settings.value = \"Restarting model\""
   ]
  },
  {
   "cell_type": "code",
   "execution_count": null,
   "metadata": {
    "scrolled": false
   },
   "outputs": [],
   "source": [
    "##### set plot size\n",
    "plt.rcParams[\"figure.figsize\"] = (9, 6) # (w, h)\n",
    "\n",
    "# link functions to widgets\n",
    "run.on_click(run_model)\n",
    "update.on_click(update_model)\n",
    "restart.on_click(restart_model)\n",
    "\n",
    "def set_plot(change):\n",
    "    t = change['new']\n",
    "    if (t < len(data)):\n",
    "        wlp.set_data(data[t][\"xz\"], data[t][\"waterlevel\"])\n",
    "        blp.set_data(data[t][\"xz\"], data[t][\"bedlevel\"])\n",
    "        wh.set_data(data[t][\"xz\"], data[t][\"waterlevel\"] - data[t][\"bedlevel\"])\n",
    "        ax1.set_title(\"time: \" + str(data[t][\"time\"]) + \"[s]\")\n",
    "        vel.set_data(data[t][\"xz\"], data[t][\"velX\"])        \n",
    "        fig.canvas.draw()\n",
    "        \n",
    "player.children[-1].observe(set_plot, 'value')\n",
    "\n",
    "controls = HBox([run, update, restart])\n",
    "params = VBox(items)\n",
    "\n",
    "for i in items: \n",
    "    change_param(i)\n",
    "    i.observe(change_param, names='value')\n",
    "\n",
    "display(VBox([settings, HBox([nsteps, controls]), HBox([params])]))\n",
    "fig, (ax1, ax2, ax3) = plt.subplots(3, 1)\n",
    "display(player)\n",
    "\n",
    "wlp, = ax1.plot(data[0][\"xz\"], data[0][\"waterlevel\"], \".\", color=\"blue\", label=\"water level\")    \n",
    "blp, = ax1.plot(data[0][\"xz\"], data[0][\"bedlevel\"], color=\"black\", label=\"bed level\") \n",
    "ax1.set_ylabel(\"Height [m]\")\n",
    "ax1.set_ylim(0, 20)\n",
    "ax1.legend(loc=0)\n",
    "ax1.grid()\n",
    "ax1.set_facecolor('xkcd:grey')\n",
    "ax1.set_title(\"time: \" + str(data[0][\"time\"]) + \"[s]\")\n",
    "\n",
    "# plt.title(\"time: \" + str(data[0][\"time\"]) + \"[s]\")\n",
    "wh, = ax2.plot(data[0][\"xz\"], data[0][\"waterlevel\"] - data[0][\"bedlevel\"],'.', label=\"water depth [m]\")\n",
    "ax2.set_ylim(0,8)\n",
    "ax2.grid()\n",
    "ax2.set_facecolor('xkcd:grey')\n",
    "ax2.set_ylabel('Water depth [m]')\n",
    "\n",
    "vel, = ax3.plot(data[0][\"xz\"], data[0][\"velX\"], '.')\n",
    "ax3.set_ylabel(\"Velocity [m/s]\")\n",
    "ax3.set_xlabel(\"Distance [m]\")\n",
    "ax3.set_facecolor('xkcd:grey')\n",
    "ax3.set_ylim(-3, 0)\n",
    "ax3.grid()"
   ]
  },
  {
   "cell_type": "markdown",
   "metadata": {},
   "source": [
    "## Appendix: The analytical solution to the Bélanger equation\n",
    "    \n",
    "$\\left[\\Lambda\\right]^x_{x_0} = \\left[\\eta - \\frac{1}{\\sqrt{3}}arctan(\\frac{1 + 2 \\eta}{\\sqrt{3}}) + \\frac{1}{6}ln(\\frac{(1 - \\eta)^2}{1 + \\eta + \\eta^2})\\right]^x_{x_0},  \\qquad$  where $\\Lambda = H^{eq} i_b x \\quad$ and $\\quad \\eta = \\frac{H}{H^{eq}}$.\n",
    "\n",
    "\n",
    "$H^{eq} i_b (x - x_0) = \\eta - \\frac{1}{\\sqrt{3}}arctan(\\frac{1 + 2 \\eta}{\\sqrt{3}}) + \\frac{1}{6}ln(\\frac{(1 - \\eta)^2}{1 + \\eta + \\eta^2}) - \\left[\\eta_0 - \\frac{1}{\\sqrt{3}}arctan(\\frac{1 + 2 \\eta_0}{\\sqrt{3}}) + \\frac{1}{6}ln(\\frac{(1 - \\eta_0)^2}{1 + \\eta_0 + \\eta_0^2})\\right], \\qquad$ where $\\quad \\eta_0 = \\frac{H_0}{H^{eq}}$\n"
   ]
  },
  {
   "cell_type": "code",
   "execution_count": null,
   "metadata": {},
   "outputs": [],
   "source": []
  }
 ],
 "metadata": {
  "kernelspec": {
   "display_name": "Python 3",
   "language": "python",
   "name": "python3"
  },
  "language_info": {
   "codemirror_mode": {
    "name": "ipython",
    "version": 3
   },
   "file_extension": ".py",
   "mimetype": "text/x-python",
   "name": "python",
   "nbconvert_exporter": "python",
   "pygments_lexer": "ipython3",
   "version": "3.7.6"
  }
 },
 "nbformat": 4,
 "nbformat_minor": 2
}
